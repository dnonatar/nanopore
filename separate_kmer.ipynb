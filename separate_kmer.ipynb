{
 "cells": [
  {
   "cell_type": "code",
   "execution_count": 1,
   "metadata": {},
   "outputs": [],
   "source": [
    "import pandas as pd\n",
    "import numpy as np\n",
    "from dtaidistance import dtw\n",
    "import seaborn as sns\n",
    "import json"
   ]
  },
  {
   "cell_type": "code",
   "execution_count": 2,
   "metadata": {},
   "outputs": [
    {
     "name": "stdout",
     "output_type": "stream",
     "text": [
      "There are 256 unique kmers\n",
      "data dimension: (1280, 3)\n"
     ]
    },
    {
     "data": {
      "text/html": [
       "<div>\n",
       "<style scoped>\n",
       "    .dataframe tbody tr th:only-of-type {\n",
       "        vertical-align: middle;\n",
       "    }\n",
       "\n",
       "    .dataframe tbody tr th {\n",
       "        vertical-align: top;\n",
       "    }\n",
       "\n",
       "    .dataframe thead th {\n",
       "        text-align: right;\n",
       "    }\n",
       "</style>\n",
       "<table border=\"1\" class=\"dataframe\">\n",
       "  <thead>\n",
       "    <tr style=\"text-align: right;\">\n",
       "      <th></th>\n",
       "      <th>read_ID</th>\n",
       "      <th>kmer</th>\n",
       "      <th>values</th>\n",
       "    </tr>\n",
       "  </thead>\n",
       "  <tbody>\n",
       "    <tr>\n",
       "      <th>0</th>\n",
       "      <td>@8a85e853-5be8-4b58-b2d6-c42b920786c1_Basecall...</td>\n",
       "      <td>AACAA</td>\n",
       "      <td>628_671_629_658_673_718_717_698_691_700_710_69...</td>\n",
       "    </tr>\n",
       "    <tr>\n",
       "      <th>1</th>\n",
       "      <td>@1d20b26f-6849-41d5-b0b8-0bf9de6ad085_Basecall...</td>\n",
       "      <td>AACAA</td>\n",
       "      <td>664_710_629_654_665_654_649_656_715_707_601_64...</td>\n",
       "    </tr>\n",
       "    <tr>\n",
       "      <th>2</th>\n",
       "      <td>@f43fe510-e8e9-4565-a75c-8aa075bbadf8_Basecall...</td>\n",
       "      <td>AACAA</td>\n",
       "      <td>568_568_585_556_583_566_589_568_566_545_541_53...</td>\n",
       "    </tr>\n",
       "    <tr>\n",
       "      <th>3</th>\n",
       "      <td>@a360a391-486c-468d-8a60-75d72ce55459_Basecall...</td>\n",
       "      <td>AACAA</td>\n",
       "      <td>635_633_653_623_635_650_635_627_633_607_621_53...</td>\n",
       "    </tr>\n",
       "    <tr>\n",
       "      <th>4</th>\n",
       "      <td>@f3365a14-afe9-480b-8fe9-5754ead63217_Basecall...</td>\n",
       "      <td>AACAA</td>\n",
       "      <td>664_629_655_665_652_663_654_654_654_667_650_68...</td>\n",
       "    </tr>\n",
       "  </tbody>\n",
       "</table>\n",
       "</div>"
      ],
      "text/plain": [
       "                                             read_ID   kmer  \\\n",
       "0  @8a85e853-5be8-4b58-b2d6-c42b920786c1_Basecall...  AACAA   \n",
       "1  @1d20b26f-6849-41d5-b0b8-0bf9de6ad085_Basecall...  AACAA   \n",
       "2  @f43fe510-e8e9-4565-a75c-8aa075bbadf8_Basecall...  AACAA   \n",
       "3  @a360a391-486c-468d-8a60-75d72ce55459_Basecall...  AACAA   \n",
       "4  @f3365a14-afe9-480b-8fe9-5754ead63217_Basecall...  AACAA   \n",
       "\n",
       "                                              values  \n",
       "0  628_671_629_658_673_718_717_698_691_700_710_69...  \n",
       "1  664_710_629_654_665_654_649_656_715_707_601_64...  \n",
       "2  568_568_585_556_583_566_589_568_566_545_541_53...  \n",
       "3  635_633_653_623_635_650_635_627_633_607_621_53...  \n",
       "4  664_629_655_665_652_663_654_654_654_667_650_68...  "
      ]
     },
     "execution_count": 2,
     "metadata": {},
     "output_type": "execute_result"
    }
   ],
   "source": [
    "data_all = pd.read_csv('./data/sampled_data_5.csv',header=0)\n",
    "\n",
    "print(\"There are \"+str(len(data_all['kmer'].unique()))+\" unique kmers\")\n",
    "print(\"data dimension: \"+str(data_all.shape))\n",
    "data_all.head()\n"
   ]
  },
  {
   "cell_type": "code",
   "execution_count": 4,
   "metadata": {},
   "outputs": [],
   "source": [
    "ave_dist = []\n",
    "median_dist = []\n",
    "min_dist = []\n",
    "max_dist = []\n",
    "q1_dist = []\n",
    "q3_dist = []\n",
    "\n",
    "for kmer in data_all['kmer'].unique():\n",
    "    data = data_all.loc[data_all['kmer']==kmer]\n",
    "    series_data = []\n",
    "    for i in data.index:\n",
    "        val = map(int,data.loc[i,'values'].split(\"_\"))\n",
    "        series_data.append(np.array(list(val), dtype=np.double))\n",
    "    # DTW computation\n",
    "    ds = dtw.distance_matrix_fast(series_data,show_progress=True)\n",
    "    y = ds[np.triu_indices(ds.shape[0],k=1)]\n",
    "    \n",
    "    ave_dist.append(np.average(y))\n",
    "    median_dist.append(np.median(y))\n",
    "    min_dist.append(np.min(y))\n",
    "    max_dist.append(np.max(y))\n",
    "    q1_dist.append(np.percentile(y,25))\n",
    "    q3_dist.append(np.percentile(y,75))\n",
    "    \n",
    "    \n",
    "    ## Fill out the whole symmetrical matrix and output it for t-sne \n",
    "    ds[np.tril_indices(ds.shape[0],k=-1)] = ds.T[np.tril_indices(ds.shape[0],k=-1)]\n",
    "    np.fill_diagonal(ds,0)\n",
    "    ds = pd.DataFrame(ds)\n",
    "    ds.columns = data.index\n",
    "    ds['index'] = data.index\n",
    "    ds = ds.set_index('index')\n",
    "    filename = './d3/data/dist_matrix/'+kmer+'.csv'\n",
    "    ds.to_csv(filename, index=False)\n",
    "    "
   ]
  },
  {
   "cell_type": "code",
   "execution_count": 30,
   "metadata": {},
   "outputs": [
    {
     "name": "stderr",
     "output_type": "stream",
     "text": [
      "/home/ratanond/anaconda3/lib/python3.7/site-packages/scipy/stats/stats.py:1713: FutureWarning: Using a non-tuple sequence for multidimensional indexing is deprecated; use `arr[tuple(seq)]` instead of `arr[seq]`. In the future this will be interpreted as an array index, `arr[np.array(seq)]`, which will result either in an error or a different result.\n",
      "  return np.add.reduce(sorted[indexer] * weights, axis=axis) / sumval\n"
     ]
    },
    {
     "data": {
      "text/plain": [
       "<matplotlib.axes._subplots.AxesSubplot at 0x7f8b4a1ddef0>"
      ]
     },
     "execution_count": 30,
     "metadata": {},
     "output_type": "execute_result"
    },
    {
     "data": {
      "image/png": "[encoded data removed]",
      "text/plain": [
       "<Figure size 432x288 with 1 Axes>"
      ]
     },
     "metadata": {
      "needs_background": "light"
     },
     "output_type": "display_data"
    }
   ],
   "source": [
    "sns.distplot(ave_dist)"
   ]
  },
  {
   "cell_type": "code",
   "execution_count": 22,
   "metadata": {},
   "outputs": [],
   "source": [
    "ave_df = pd.DataFrame(list(d.items()),columns=['kmer','ave_dist'])"
   ]
  },
  {
   "cell_type": "code",
   "execution_count": 32,
   "metadata": {},
   "outputs": [],
   "source": [
    "ave_dict = ave_df.to_dict('records')"
   ]
  },
  {
   "cell_type": "code",
   "execution_count": 33,
   "metadata": {},
   "outputs": [],
   "source": [
    "with open('./data/ave_dict.json','w') as fout:\n",
    "    json.dump(ave_dict,fout)"
   ]
  },
  {
   "cell_type": "code",
   "execution_count": 5,
   "metadata": {},
   "outputs": [],
   "source": [
    "## creating a dataset for boxplot\n",
    "kmer_list = data_all['kmer'].unique().tolist()\n",
    "boxplot_dict = dict([('kmer', kmer_list),\n",
    "                          ('min', min_dist),\n",
    "                          ('max', max_dist),\n",
    "                          ('median', median_dist),\n",
    "                          ('q1', q1_dist),\n",
    "                          ('q3', q3_dist)    \n",
    "                    ])\n",
    "\n",
    "boxplot_df = pd.DataFrame.from_dict(boxplot_dict)\n",
    "boxplot_df.to_csv('./d3/data/boxplot_data.csv', index=False)"
   ]
  },
  {
   "cell_type": "code",
   "execution_count": 3,
   "metadata": {},
   "outputs": [],
   "source": [
    "## creating datasets for drawing raw signals in d3\n",
    "data_all.kmer.unique()\n",
    "for kmer in data_all.kmer.unique():\n",
    "    data_kmer = data_all.loc[data_all['kmer']==kmer,:]\n",
    "    filename = './d3/data/raw_signal/'+kmer+'_signal.csv'\n",
    "    data_kmer.to_csv(filename, index=False)\n"
   ]
  },
  {
   "cell_type": "code",
   "execution_count": null,
   "metadata": {},
   "outputs": [],
   "source": []
  }
 ],
 "metadata": {
  "kernelspec": {
   "display_name": "Python 3",
   "language": "python",
   "name": "python3"
  },
  "language_info": {
   "codemirror_mode": {
    "name": "ipython",
    "version": 3
   },
   "file_extension": ".py",
   "mimetype": "text/x-python",
   "name": "python",
   "nbconvert_exporter": "python",
   "pygments_lexer": "ipython3",
   "version": "3.7.1"
  }
 },
 "nbformat": 4,
 "nbformat_minor": 2
}
