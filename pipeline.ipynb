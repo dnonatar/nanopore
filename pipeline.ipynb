{
 "cells": [
  {
   "cell_type": "markdown",
   "metadata": {},
   "source": [
    "Pipeline for converting a csv input into an output that is suitable for d3 visualization."
   ]
  },
  {
   "cell_type": "code",
   "execution_count": 1,
   "metadata": {},
   "outputs": [],
   "source": [
    "import pandas as pd\n",
    "import numpy as np\n",
    "from dtaidistance import dtw\n",
    "from scipy import cluster\n",
    "from scipy.cluster.hierarchy import linkage\n",
    "from scipy.cluster.hierarchy import dendrogram\n",
    "import matplotlib.pyplot as plt\n",
    "import os"
   ]
  },
  {
   "cell_type": "code",
   "execution_count": 2,
   "metadata": {},
   "outputs": [
    {
     "name": "stdout",
     "output_type": "stream",
     "text": [
      "There are 256 unique kmers\n",
      "data dimension: (1280, 3)\n"
     ]
    },
    {
     "data": {
      "text/html": [
       "<div>\n",
       "<style scoped>\n",
       "    .dataframe tbody tr th:only-of-type {\n",
       "        vertical-align: middle;\n",
       "    }\n",
       "\n",
       "    .dataframe tbody tr th {\n",
       "        vertical-align: top;\n",
       "    }\n",
       "\n",
       "    .dataframe thead th {\n",
       "        text-align: right;\n",
       "    }\n",
       "</style>\n",
       "<table border=\"1\" class=\"dataframe\">\n",
       "  <thead>\n",
       "    <tr style=\"text-align: right;\">\n",
       "      <th></th>\n",
       "      <th>read_ID</th>\n",
       "      <th>kmer</th>\n",
       "      <th>values</th>\n",
       "    </tr>\n",
       "  </thead>\n",
       "  <tbody>\n",
       "    <tr>\n",
       "      <th>0</th>\n",
       "      <td>@8a85e853-5be8-4b58-b2d6-c42b920786c1_Basecall...</td>\n",
       "      <td>AACAA</td>\n",
       "      <td>628_671_629_658_673_718_717_698_691_700_710_69...</td>\n",
       "    </tr>\n",
       "    <tr>\n",
       "      <th>1</th>\n",
       "      <td>@1d20b26f-6849-41d5-b0b8-0bf9de6ad085_Basecall...</td>\n",
       "      <td>AACAA</td>\n",
       "      <td>664_710_629_654_665_654_649_656_715_707_601_64...</td>\n",
       "    </tr>\n",
       "    <tr>\n",
       "      <th>2</th>\n",
       "      <td>@f43fe510-e8e9-4565-a75c-8aa075bbadf8_Basecall...</td>\n",
       "      <td>AACAA</td>\n",
       "      <td>568_568_585_556_583_566_589_568_566_545_541_53...</td>\n",
       "    </tr>\n",
       "    <tr>\n",
       "      <th>3</th>\n",
       "      <td>@a360a391-486c-468d-8a60-75d72ce55459_Basecall...</td>\n",
       "      <td>AACAA</td>\n",
       "      <td>635_633_653_623_635_650_635_627_633_607_621_53...</td>\n",
       "    </tr>\n",
       "    <tr>\n",
       "      <th>4</th>\n",
       "      <td>@f3365a14-afe9-480b-8fe9-5754ead63217_Basecall...</td>\n",
       "      <td>AACAA</td>\n",
       "      <td>664_629_655_665_652_663_654_654_654_667_650_68...</td>\n",
       "    </tr>\n",
       "  </tbody>\n",
       "</table>\n",
       "</div>"
      ],
      "text/plain": [
       "                                             read_ID   kmer  \\\n",
       "0  @8a85e853-5be8-4b58-b2d6-c42b920786c1_Basecall...  AACAA   \n",
       "1  @1d20b26f-6849-41d5-b0b8-0bf9de6ad085_Basecall...  AACAA   \n",
       "2  @f43fe510-e8e9-4565-a75c-8aa075bbadf8_Basecall...  AACAA   \n",
       "3  @a360a391-486c-468d-8a60-75d72ce55459_Basecall...  AACAA   \n",
       "4  @f3365a14-afe9-480b-8fe9-5754ead63217_Basecall...  AACAA   \n",
       "\n",
       "                                              values  \n",
       "0  628_671_629_658_673_718_717_698_691_700_710_69...  \n",
       "1  664_710_629_654_665_654_649_656_715_707_601_64...  \n",
       "2  568_568_585_556_583_566_589_568_566_545_541_53...  \n",
       "3  635_633_653_623_635_650_635_627_633_607_621_53...  \n",
       "4  664_629_655_665_652_663_654_654_654_667_650_68...  "
      ]
     },
     "execution_count": 2,
     "metadata": {},
     "output_type": "execute_result"
    }
   ],
   "source": [
    "data = pd.read_csv('./data/sampled_data_5.csv',header=0)\n",
    "\n",
    "print(\"There are \"+str(len(data['kmer'].unique()))+\" unique kmers\")\n",
    "print(\"data dimension: \"+str(data.shape))\n",
    "data.head()"
   ]
  },
  {
   "cell_type": "code",
   "execution_count": 3,
   "metadata": {},
   "outputs": [],
   "source": [
    "series_data = []\n",
    "for i in data.index:\n",
    "    val = map(int,data.loc[i,'values'].split(\"_\"))\n",
    "    series_data.append(np.array(list(val), dtype=np.double))"
   ]
  },
  {
   "cell_type": "code",
   "execution_count": 4,
   "metadata": {},
   "outputs": [],
   "source": [
    "ds = dtw.distance_matrix_fast(series_data,show_progress=True)"
   ]
  },
  {
   "cell_type": "code",
   "execution_count": 5,
   "metadata": {},
   "outputs": [],
   "source": [
    "ds[np.tril_indices(ds.shape[0],k=-1)] = ds.T[np.tril_indices(ds.shape[0],k=-1)]\n",
    "np.fill_diagonal(ds,0)\n",
    "ds = pd.DataFrame(ds)\n",
    "ds.index = data['kmer']\n",
    "ds.columns = data['kmer']"
   ]
  },
  {
   "cell_type": "code",
   "execution_count": 6,
   "metadata": {},
   "outputs": [],
   "source": [
    "for kmer_row in data['kmer'].unique():\n",
    "    for kmer_column in data['kmer'].unique():\n",
    "        current_ds = ds.loc[kmer_row, kmer_column]\n",
    "        current_ds.columns = range(0,5)\n",
    "        outdir = './d3/data/distance_matrices/'+ kmer_row + '/'\n",
    "        if not os.path.exists(outdir):\n",
    "            os.mkdir(outdir)\n",
    "        filename = kmer_row + '_' + kmer_column + '.csv'\n",
    "        fullname = os.path.join(outdir, filename)\n",
    "        \n",
    "        current_ds.to_csv(fullname, index=False)\n"
   ]
  },
  {
   "cell_type": "code",
   "execution_count": null,
   "metadata": {},
   "outputs": [],
   "source": [
    "#y = ds[np.triu_indices(ds.shape[0],k=1)]"
   ]
  },
  {
   "cell_type": "code",
   "execution_count": null,
   "metadata": {},
   "outputs": [],
   "source": [
    "#clusters = linkage(y,method='complete')\n"
   ]
  },
  {
   "cell_type": "code",
   "execution_count": null,
   "metadata": {},
   "outputs": [],
   "source": [
    "\"\"\"\n",
    "row_dendr = dendrogram(clusters)\n",
    "plt.tight_layout()\n",
    "plt.ylabel('DTW distance')\n",
    "plt.xticks(rotation=90)\n",
    "plt.show()\n",
    "\"\"\""
   ]
  },
  {
   "cell_type": "code",
   "execution_count": null,
   "metadata": {},
   "outputs": [],
   "source": [
    "\"\"\"\n",
    "# n_clusters is the number of clusters we want to see\n",
    "for p in range(2,31):\n",
    "    n_clusters = p\n",
    "    total_rows = data.shape[0]\n",
    "    cutree = cluster.hierarchy.cut_tree(Z=clusters,n_clusters=n_clusters)\n",
    "\n",
    "    cluster_list = []\n",
    "    percent_list = []\n",
    "\n",
    "    for i in range(0,n_clusters):\n",
    "        cluster_list.append(i)\n",
    "        n_members = len(np.where(cutree==i)[0])\n",
    "        percentage = n_members / total_rows\n",
    "        percent_list.append(percentage)\n",
    "    \n",
    "    # create the percentage dataframe and write a csv file\n",
    "    percent_d = {'Cluster':cluster_list,'Percentage':percent_list}\n",
    "    percent_df = pd.DataFrame(data = percent_d)\n",
    "    filepath = \"./pipeline_output/percentage/percent_df_\"+str(p)+\".csv\"\n",
    "    percent_df.to_csv(filepath,index=False)\n",
    "    \n",
    "    # create the info dataframe and write a csv file\n",
    "    info_df = data\n",
    "    info_df['cluster']=0\n",
    "    for i in range(0,n_clusters):\n",
    "        info_df.loc[np.where(cutree==i)[0],'cluster']=i\n",
    "    filepath = \"./pipeline_output/info/info_df_\"+str(p)+\".csv\"    \n",
    "    info_df.to_csv(filepath, index=False)\n",
    "    \n",
    "\"\"\"\""
   ]
  },
  {
   "cell_type": "code",
   "execution_count": null,
   "metadata": {},
   "outputs": [],
   "source": []
  }
 ],
 "metadata": {
  "kernelspec": {
   "display_name": "Python 3",
   "language": "python",
   "name": "python3"
  },
  "language_info": {
   "codemirror_mode": {
    "name": "ipython",
    "version": 3
   },
   "file_extension": ".py",
   "mimetype": "text/x-python",
   "name": "python",
   "nbconvert_exporter": "python",
   "pygments_lexer": "ipython3",
   "version": "3.7.1"
  }
 },
 "nbformat": 4,
 "nbformat_minor": 2
}
