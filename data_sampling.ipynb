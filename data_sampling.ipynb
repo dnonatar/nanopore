{
 "cells": [
  {
   "cell_type": "markdown",
   "metadata": {},
   "source": [
    "Sample m rows from each of the 256 kmers in the original dataframe"
   ]
  },
  {
   "cell_type": "code",
   "execution_count": 6,
   "metadata": {},
   "outputs": [],
   "source": [
    "import pandas as pd\n",
    "import numpy as np"
   ]
  },
  {
   "cell_type": "code",
   "execution_count": 7,
   "metadata": {},
   "outputs": [
    {
     "name": "stdout",
     "output_type": "stream",
     "text": [
      "There are 256 unique kmers\n",
      "data dimension: (448700, 3)\n"
     ]
    },
    {
     "data": {
      "text/html": [
       "<div>\n",
       "<style scoped>\n",
       "    .dataframe tbody tr th:only-of-type {\n",
       "        vertical-align: middle;\n",
       "    }\n",
       "\n",
       "    .dataframe tbody tr th {\n",
       "        vertical-align: top;\n",
       "    }\n",
       "\n",
       "    .dataframe thead th {\n",
       "        text-align: right;\n",
       "    }\n",
       "</style>\n",
       "<table border=\"1\" class=\"dataframe\">\n",
       "  <thead>\n",
       "    <tr style=\"text-align: right;\">\n",
       "      <th></th>\n",
       "      <th>read_ID</th>\n",
       "      <th>kmer</th>\n",
       "      <th>values</th>\n",
       "    </tr>\n",
       "  </thead>\n",
       "  <tbody>\n",
       "    <tr>\n",
       "      <th>0</th>\n",
       "      <td>@b04d0972-8563-4130-8871-3b3f105d93f0_Basecall...</td>\n",
       "      <td>TTCAA</td>\n",
       "      <td>717_676_725_717_722_739_705_709_694_706_719_68...</td>\n",
       "    </tr>\n",
       "    <tr>\n",
       "      <th>1</th>\n",
       "      <td>@b04d0972-8563-4130-8871-3b3f105d93f0_Basecall...</td>\n",
       "      <td>GGCCT</td>\n",
       "      <td>466_472_457_463_464_463_466_478_463_452_454_46...</td>\n",
       "    </tr>\n",
       "    <tr>\n",
       "      <th>2</th>\n",
       "      <td>@b04d0972-8563-4130-8871-3b3f105d93f0_Basecall...</td>\n",
       "      <td>TGCTG</td>\n",
       "      <td>650_639_655_787_644_716_809_720_609_677_613_63...</td>\n",
       "    </tr>\n",
       "    <tr>\n",
       "      <th>3</th>\n",
       "      <td>@b04d0972-8563-4130-8871-3b3f105d93f0_Basecall...</td>\n",
       "      <td>AACTA</td>\n",
       "      <td>697_669_670_643_658_655_681_728_691_646_672_66...</td>\n",
       "    </tr>\n",
       "    <tr>\n",
       "      <th>4</th>\n",
       "      <td>@b04d0972-8563-4130-8871-3b3f105d93f0_Basecall...</td>\n",
       "      <td>ACCAA</td>\n",
       "      <td>716_661_717_716_675_726_681_732_731_731_736_73...</td>\n",
       "    </tr>\n",
       "  </tbody>\n",
       "</table>\n",
       "</div>"
      ],
      "text/plain": [
       "                                             read_ID   kmer  \\\n",
       "0  @b04d0972-8563-4130-8871-3b3f105d93f0_Basecall...  TTCAA   \n",
       "1  @b04d0972-8563-4130-8871-3b3f105d93f0_Basecall...  GGCCT   \n",
       "2  @b04d0972-8563-4130-8871-3b3f105d93f0_Basecall...  TGCTG   \n",
       "3  @b04d0972-8563-4130-8871-3b3f105d93f0_Basecall...  AACTA   \n",
       "4  @b04d0972-8563-4130-8871-3b3f105d93f0_Basecall...  ACCAA   \n",
       "\n",
       "                                              values  \n",
       "0  717_676_725_717_722_739_705_709_694_706_719_68...  \n",
       "1  466_472_457_463_464_463_466_478_463_452_454_46...  \n",
       "2  650_639_655_787_644_716_809_720_609_677_613_63...  \n",
       "3  697_669_670_643_658_655_681_728_691_646_672_66...  \n",
       "4  716_661_717_716_675_726_681_732_731_731_736_73...  "
      ]
     },
     "execution_count": 7,
     "metadata": {},
     "output_type": "execute_result"
    }
   ],
   "source": [
    "data = pd.read_csv('./data/all_C_signals_01.txt',sep=\" \",header=None)\n",
    "data.columns = ['read_ID',2,'kmer',4,5,'values']\n",
    "\n",
    "data = data[['read_ID','kmer','values']]\n",
    "\n",
    "print(\"There are \"+str(len(data['kmer'].unique()))+\" unique kmers\")\n",
    "print(\"data dimension: \"+str(data.shape))\n",
    "data.head()"
   ]
  },
  {
   "cell_type": "code",
   "execution_count": 8,
   "metadata": {},
   "outputs": [],
   "source": [
    "def sample_data(full_data, m):\n",
    "    sampled_data = []\n",
    "    for i in full_data.sort_values(by='kmer')['kmer'].unique():\n",
    "        sub_data = full_data.loc[full_data['kmer']==i].sample(n=m,replace=False)\n",
    "        sampled_data.append(sub_data)\n",
    "    return pd.concat(sampled_data,axis=0)"
   ]
  },
  {
   "cell_type": "code",
   "execution_count": 9,
   "metadata": {},
   "outputs": [
    {
     "data": {
      "text/html": [
       "<div>\n",
       "<style scoped>\n",
       "    .dataframe tbody tr th:only-of-type {\n",
       "        vertical-align: middle;\n",
       "    }\n",
       "\n",
       "    .dataframe tbody tr th {\n",
       "        vertical-align: top;\n",
       "    }\n",
       "\n",
       "    .dataframe thead th {\n",
       "        text-align: right;\n",
       "    }\n",
       "</style>\n",
       "<table border=\"1\" class=\"dataframe\">\n",
       "  <thead>\n",
       "    <tr style=\"text-align: right;\">\n",
       "      <th></th>\n",
       "      <th>read_ID</th>\n",
       "      <th>kmer</th>\n",
       "      <th>values</th>\n",
       "    </tr>\n",
       "  </thead>\n",
       "  <tbody>\n",
       "    <tr>\n",
       "      <th>224090</th>\n",
       "      <td>@8a85e853-5be8-4b58-b2d6-c42b920786c1_Basecall...</td>\n",
       "      <td>AACAA</td>\n",
       "      <td>628_671_629_658_673_718_717_698_691_700_710_69...</td>\n",
       "    </tr>\n",
       "    <tr>\n",
       "      <th>315002</th>\n",
       "      <td>@1d20b26f-6849-41d5-b0b8-0bf9de6ad085_Basecall...</td>\n",
       "      <td>AACAA</td>\n",
       "      <td>664_710_629_654_665_654_649_656_715_707_601_64...</td>\n",
       "    </tr>\n",
       "    <tr>\n",
       "      <th>89300</th>\n",
       "      <td>@f43fe510-e8e9-4565-a75c-8aa075bbadf8_Basecall...</td>\n",
       "      <td>AACAA</td>\n",
       "      <td>568_568_585_556_583_566_589_568_566_545_541_53...</td>\n",
       "    </tr>\n",
       "    <tr>\n",
       "      <th>144268</th>\n",
       "      <td>@a360a391-486c-468d-8a60-75d72ce55459_Basecall...</td>\n",
       "      <td>AACAA</td>\n",
       "      <td>635_633_653_623_635_650_635_627_633_607_621_53...</td>\n",
       "    </tr>\n",
       "    <tr>\n",
       "      <th>377089</th>\n",
       "      <td>@f3365a14-afe9-480b-8fe9-5754ead63217_Basecall...</td>\n",
       "      <td>AACAA</td>\n",
       "      <td>664_629_655_665_652_663_654_654_654_667_650_68...</td>\n",
       "    </tr>\n",
       "    <tr>\n",
       "      <th>299504</th>\n",
       "      <td>@f0260402-f2a6-4814-9a09-0b6f8ea8e8d6_Basecall...</td>\n",
       "      <td>AACAC</td>\n",
       "      <td>489_466_451_451_462_464_462_470_471_467_469_46...</td>\n",
       "    </tr>\n",
       "    <tr>\n",
       "      <th>408153</th>\n",
       "      <td>@e5e19fb9-4e2d-4b82-a1cf-0a0d76006da0_Basecall...</td>\n",
       "      <td>AACAC</td>\n",
       "      <td>535_582_512_502_501_487_470_478_491_488_473_48...</td>\n",
       "    </tr>\n",
       "    <tr>\n",
       "      <th>329660</th>\n",
       "      <td>@4aa887c2-2395-4f87-9d0a-8bf7da27e0ee_Basecall...</td>\n",
       "      <td>AACAC</td>\n",
       "      <td>416_405_416_407_400_413_402_410_419_407_414_40...</td>\n",
       "    </tr>\n",
       "    <tr>\n",
       "      <th>123998</th>\n",
       "      <td>@70f47177-cb6d-4f68-a9c7-475e5da241ce_Basecall...</td>\n",
       "      <td>AACAC</td>\n",
       "      <td>460_471_472_468_474_450_478_497_503_515_507_50...</td>\n",
       "    </tr>\n",
       "    <tr>\n",
       "      <th>8299</th>\n",
       "      <td>@1f06c64f-200d-47f3-97bb-e8d00b7017f7_Basecall...</td>\n",
       "      <td>AACAC</td>\n",
       "      <td>475_560_482_543_501_500_504_486_488_508_573_47...</td>\n",
       "    </tr>\n",
       "  </tbody>\n",
       "</table>\n",
       "</div>"
      ],
      "text/plain": [
       "                                                  read_ID   kmer  \\\n",
       "224090  @8a85e853-5be8-4b58-b2d6-c42b920786c1_Basecall...  AACAA   \n",
       "315002  @1d20b26f-6849-41d5-b0b8-0bf9de6ad085_Basecall...  AACAA   \n",
       "89300   @f43fe510-e8e9-4565-a75c-8aa075bbadf8_Basecall...  AACAA   \n",
       "144268  @a360a391-486c-468d-8a60-75d72ce55459_Basecall...  AACAA   \n",
       "377089  @f3365a14-afe9-480b-8fe9-5754ead63217_Basecall...  AACAA   \n",
       "299504  @f0260402-f2a6-4814-9a09-0b6f8ea8e8d6_Basecall...  AACAC   \n",
       "408153  @e5e19fb9-4e2d-4b82-a1cf-0a0d76006da0_Basecall...  AACAC   \n",
       "329660  @4aa887c2-2395-4f87-9d0a-8bf7da27e0ee_Basecall...  AACAC   \n",
       "123998  @70f47177-cb6d-4f68-a9c7-475e5da241ce_Basecall...  AACAC   \n",
       "8299    @1f06c64f-200d-47f3-97bb-e8d00b7017f7_Basecall...  AACAC   \n",
       "\n",
       "                                                   values  \n",
       "224090  628_671_629_658_673_718_717_698_691_700_710_69...  \n",
       "315002  664_710_629_654_665_654_649_656_715_707_601_64...  \n",
       "89300   568_568_585_556_583_566_589_568_566_545_541_53...  \n",
       "144268  635_633_653_623_635_650_635_627_633_607_621_53...  \n",
       "377089  664_629_655_665_652_663_654_654_654_667_650_68...  \n",
       "299504  489_466_451_451_462_464_462_470_471_467_469_46...  \n",
       "408153  535_582_512_502_501_487_470_478_491_488_473_48...  \n",
       "329660  416_405_416_407_400_413_402_410_419_407_414_40...  \n",
       "123998  460_471_472_468_474_450_478_497_503_515_507_50...  \n",
       "8299    475_560_482_543_501_500_504_486_488_508_573_47...  "
      ]
     },
     "execution_count": 9,
     "metadata": {},
     "output_type": "execute_result"
    }
   ],
   "source": [
    "m = 5\n",
    "sampled_data = sample_data(data,m)\n",
    "sampled_data.head(10)"
   ]
  },
  {
   "cell_type": "code",
   "execution_count": 11,
   "metadata": {},
   "outputs": [],
   "source": [
    "filename = \"./data/sampled_data_\"+str(m)+\".csv\"\n",
    "sampled_data.to_csv(filename,index=False)"
   ]
  },
  {
   "cell_type": "code",
   "execution_count": null,
   "metadata": {},
   "outputs": [],
   "source": []
  }
 ],
 "metadata": {
  "kernelspec": {
   "display_name": "Python 3",
   "language": "python",
   "name": "python3"
  },
  "language_info": {
   "codemirror_mode": {
    "name": "ipython",
    "version": 3
   },
   "file_extension": ".py",
   "mimetype": "text/x-python",
   "name": "python",
   "nbconvert_exporter": "python",
   "pygments_lexer": "ipython3",
   "version": "3.7.1"
  }
 },
 "nbformat": 4,
 "nbformat_minor": 2
}
